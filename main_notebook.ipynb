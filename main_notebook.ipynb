{
  "cells": [
    {
      "cell_type": "code",
      "execution_count": 1,
      "metadata": {
        "colab": {
          "base_uri": "https://localhost:8080/"
        },
        "id": "tKvk7mEMiHnB",
        "outputId": "e18dc70c-4876-4306-f18c-68b70dc4f56b"
      },
      "outputs": [
        {
          "output_type": "stream",
          "name": "stdout",
          "text": [
            "Cloning into 'CIBMTR_cancer_outcome_predictions'...\n",
            "remote: Enumerating objects: 10, done.\u001b[K\n",
            "remote: Counting objects: 100% (10/10), done.\u001b[K\n",
            "remote: Compressing objects: 100% (8/8), done.\u001b[K\n",
            "remote: Total 10 (delta 1), reused 0 (delta 0), pack-reused 0 (from 0)\u001b[K\n",
            "Receiving objects: 100% (10/10), done.\n",
            "Resolving deltas: 100% (1/1), done.\n",
            "/content/CIBMTR_cancer_outcome_predictions\n",
            "GCP Project Set\n",
            "Git configured with your user data.\n"
          ]
        }
      ],
      "source": [
        "# --- SETUP GITHUB AND GCP ENVIRONMENT VARIABLES ---\n",
        "# Ensure the following environmental variables are set in Colab user data:\n",
        "# - GITHUB_PAT: GitHub Personal Access Token\n",
        "# - GITHUB_EMAIL: GitHub email for commits\n",
        "# - GITHUB_USER_NAME: GitHub username\n",
        "# - GCP_EEG_PROJECT_ID: Google Cloud Project ID\n",
        "# - GCP_EEG_BUCKET_NAME: (Optional) GCP bucket for EEG data\n",
        "\n",
        "# Select environment\n",
        "ENVIRONMENT = 'colab'   # Choose 'local' or 'colab'\n",
        "BRANCH_NAME = 'main'\n",
        "REPOSITORY_OWNER = 'tristan-day-research'\n",
        "REPOSITORY = 'CIBMTR_cancer_outcome_predictions'\n",
        "GOOGLE_DRIVE_DIR = 'CIBMTR_data'\n",
        "\n",
        "if ENVIRONMENT == 'colab':\n",
        "    from google.colab import userdata\n",
        "\n",
        "    # Retrieve GitHub credentials from Colab user data\n",
        "    token = userdata.get('GITHUB_PAT')\n",
        "    github_email = userdata.get('GITHUB_EMAIL')\n",
        "    github_username = userdata.get('GITHUB_USER_NAME')\n",
        "\n",
        "    # Clone the repository (done here as the helper file isn't available yet)\n",
        "    !git clone -b {BRANCH_NAME} https://{token}@github.com/{REPOSITORY_OWNER}/{REPOSITORY}.git\n",
        "\n",
        "    # Change to correct directory\n",
        "    %cd /content/{REPOSITORY}/\n",
        "\n",
        "    # Load the helper file now that the repo is cloned\n",
        "    # from src.setup import configure_environment\n",
        "    from src import setup\n",
        "\n",
        "    # Run full environment setup\n",
        "    gcp_bucket_name, gcp_file_prefix, project_id, DATA_DIR = setup.configure_environment(environment=ENVIRONMENT, GOOGLE_DRIVE_DIR)\n"
      ]
    },
    {
      "cell_type": "code",
      "source": [
        "from google.colab import drive\n",
        "import os\n",
        "\n",
        "def setup_data_directory():\n",
        "    # Mount Google Drive\n",
        "    drive.mount('/content/drive')\n",
        "\n",
        "    # Set up path to your data directory in Drive\n",
        "    DATA_DIR = '/content/drive/MyDrive/your_project_folder/CIBMTR_data'\n",
        "\n",
        "    # Create directory if it doesn't exist\n",
        "    if not os.path.exists(DATA_DIR):\n",
        "        os.makedirs(DATA_DIR)\n",
        "\n",
        "    return DATA_DIR\n",
        "\n",
        "# Usage\n",
        "DATA_DIR = setup_data_directory()\n",
        "\n",
        "# Example: List contents\n",
        "files = os.listdir(DATA_DIR)\n",
        "print(f\"Files in data directory: {files}\")"
      ],
      "metadata": {
        "colab": {
          "base_uri": "https://localhost:8080/"
        },
        "id": "Kxlf2KzgkCr6",
        "outputId": "0e850ae3-1727-4ccd-9829-ad25cdf46bdf"
      },
      "execution_count": 4,
      "outputs": [
        {
          "output_type": "stream",
          "name": "stdout",
          "text": [
            "Mounted at /content/drive\n",
            "Files in data directory: []\n"
          ]
        }
      ]
    }
  ],
  "metadata": {
    "language_info": {
      "name": "python"
    },
    "colab": {
      "provenance": []
    },
    "kernelspec": {
      "name": "python3",
      "display_name": "Python 3"
    }
  },
  "nbformat": 4,
  "nbformat_minor": 0
}