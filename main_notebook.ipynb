{
  "cells": [
    {
      "cell_type": "code",
      "execution_count": 8,
      "metadata": {
        "id": "tKvk7mEMiHnB",
        "outputId": "4c367519-b6b1-4938-8adf-fcde99b088af",
        "colab": {
          "base_uri": "https://localhost:8080/"
        }
      },
      "outputs": [
        {
          "output_type": "stream",
          "name": "stdout",
          "text": [
            "fatal: destination path 'CIBMTR_cancer_outcome_predictions' already exists and is not an empty directory.\n",
            "/content/CIBMTR_cancer_outcome_predictions\n",
            "GCP Project Set\n",
            "Git configured with your user data.\n"
          ]
        }
      ],
      "source": [
        "# --- SETUP GITHUB AND GCP ENVIRONMENT VARIABLES ---\n",
        "# Ensure the following environmental variables are set in Colab user data:\n",
        "# - GITHUB_PAT: GitHub Personal Access Token\n",
        "# - GITHUB_EMAIL: GitHub email for commits\n",
        "# - GITHUB_USER_NAME: GitHub username\n",
        "# - GCP_EEG_PROJECT_ID: Google Cloud Project ID\n",
        "# - GCP_EEG_BUCKET_NAME: (Optional) GCP bucket for EEG data\n",
        "\n",
        "# Select environment\n",
        "ENVIRONMENT = 'colab'   # Choose 'local' or 'colab'\n",
        "BRANCH_NAME = 'main'\n",
        "REPOSITORY_OWNER = 'tristan-day-research'\n",
        "REPOSITORY = 'CIBMTR_cancer_outcome_predictions'\n",
        "\n",
        "if ENVIRONMENT == 'colab':\n",
        "    from google.colab import userdata\n",
        "\n",
        "    # Retrieve GitHub credentials from Colab user data\n",
        "    token = userdata.get('GITHUB_PAT')\n",
        "    github_email = userdata.get('GITHUB_EMAIL')\n",
        "    github_username = userdata.get('GITHUB_USER_NAME')\n",
        "\n",
        "    # Clone the repository (done here as the helper file isn't available yet)\n",
        "    !git clone -b {BRANCH_NAME} https://{token}@github.com/{REPOSITORY_OWNER}/{REPOSITORY}.git\n",
        "\n",
        "    # Change to correct directory\n",
        "    %cd /content/{REPOSITORY}/\n",
        "\n",
        "    # Load the helper file now that the repo is cloned\n",
        "    # from src.setup import configure_environment\n",
        "    from src import setup\n",
        "\n",
        "    # Run full environment setup\n",
        "    gcp_bucket_name, gcp_file_prefix, project_id = setup.configure_environment(environment=ENVIRONMENT)\n"
      ]
    }
  ],
  "metadata": {
    "language_info": {
      "name": "python"
    },
    "colab": {
      "provenance": []
    },
    "kernelspec": {
      "name": "python3",
      "display_name": "Python 3"
    }
  },
  "nbformat": 4,
  "nbformat_minor": 0
}