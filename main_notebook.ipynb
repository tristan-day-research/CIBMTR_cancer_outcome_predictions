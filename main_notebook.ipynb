{
  "cells": [
    {
      "cell_type": "code",
      "source": [
        "# \"\"\"\n",
        "# Environment Configuration\n",
        "# ------------------------\n",
        "# This notebook sets up the development environment, including:\n",
        "# - Environment type (local vs. Colab)\n",
        "# - GitHub repository configuration\n",
        "# - Google Drive data directory mounting\n",
        "# - Device configuration (CPU/GPU)\n",
        "# \"\"\"\n",
        "\n",
        "# # Core environment constants\n",
        "# ENVIRONMENT = 'colab'\n",
        "# BRANCH_NAME = 'main'\n",
        "# REPOSITORY_OWNER = 'tristan-day-research'\n",
        "# REPOSITORY = 'CIBMTR_cancer_outcome_predictions'\n",
        "# GOOGLE_DRIVE_DIR = 'CIBMTR_data'\n",
        "\n",
        "# # Configure environment based on runtime type\n",
        "# if ENVIRONMENT == 'colab':\n",
        "#     from google.colab import userdata\n",
        "\n",
        "#     # Start from the content directory\n",
        "#     %cd /content\n",
        "\n",
        "#     # Get GitHub token and clone repository\n",
        "#     token = userdata.get('GITHUB_PAT')\n",
        "#     !git clone -b {BRANCH_NAME} https://{token}@github.com/{REPOSITORY_OWNER}/{REPOSITORY}.git\n",
        "\n",
        "#     # Change to repository directory\n",
        "#     %cd {REPOSITORY}\n",
        "\n",
        "#     # Import and run environment setup\n",
        "#     from src import setup\n",
        "#     env_config = setup.configure_environment(\n",
        "#         environment=ENVIRONMENT,\n",
        "#         google_drive_dir=GOOGLE_DRIVE_DIR\n",
        "#     )\n",
        "\n",
        "# # Set commonly used configuration values for easier access\n",
        "# data_path = env_config.data_dir\n",
        "# device = env_config.device\n",
        "\n",
        "# Core environment constants\n",
        "ENVIRONMENT = 'colab'\n",
        "BRANCH_NAME = 'main'\n",
        "REPOSITORY_OWNER = 'tristan-day-research'\n",
        "REPOSITORY = 'CIBMTR_cancer_outcome_predictions'\n",
        "GOOGLE_DRIVE_DIR = 'CIBMTR_data'\n",
        "\n",
        "# Configure environment based on runtime type\n",
        "if ENVIRONMENT == 'colab':\n",
        "    from google.colab import userdata\n",
        "    import os\n",
        "\n",
        "    # Set repository name as environment variable for notebook setup\n",
        "    os.environ['REPOSITORY'] = REPOSITORY\n",
        "\n",
        "    # Start from the content directory\n",
        "    %cd /content\n",
        "\n",
        "    # Get GitHub token and clone repository\n",
        "    token = userdata.get('GITHUB_PAT')\n",
        "    !git clone -b {BRANCH_NAME} https://{token}@github.com/{REPOSITORY_OWNER}/{REPOSITORY}.git\n",
        "\n",
        "    # Change to repository directory\n",
        "    %cd {REPOSITORY}\n",
        "\n",
        "    # Import and run environment setup\n",
        "    from src import setup\n",
        "    env_config = setup.configure_environment(\n",
        "        environment=ENVIRONMENT,\n",
        "        google_drive_dir=GOOGLE_DRIVE_DIR\n",
        "    )\n",
        "\n",
        "# Set commonly used configuration values for easier access\n",
        "data_path = env_config.data_dir\n",
        "device = env_config.device"
      ],
      "metadata": {
        "colab": {
          "base_uri": "https://localhost:8080/"
        },
        "id": "UN3v3BySQryH",
        "outputId": "19a6dcdb-4687-4826-b087-a1f7905cc07a",
        "collapsed": true
      },
      "execution_count": null,
      "outputs": [
        {
          "output_type": "stream",
          "name": "stdout",
          "text": [
            "/content\n",
            "fatal: destination path 'CIBMTR_cancer_outcome_predictions' already exists and is not an empty directory.\n",
            "/content/CIBMTR_cancer_outcome_predictions\n",
            "Drive already mounted at /content/drive; to attempt to forcibly remount, call drive.mount(\"/content/drive\", force_remount=True).\n"
          ]
        },
        {
          "output_type": "stream",
          "name": "stderr",
          "text": [
            "WARNING:src.setup:GPU not available, falling back to CPU\n",
            "WARNING:src.setup:GCP configuration not available: Secret GCP_BUCKET_NAME does not exist.\n"
          ]
        }
      ]
    },
    {
      "cell_type": "code",
      "source": [
        "!mv /content/CIBMTR_cancer_outcome_predictions/notebooks/EDA.ipynb /content/CIBMTR_cancer_outcome_predictions"
      ],
      "metadata": {
        "id": "iypai_jzSpBP"
      },
      "execution_count": 4,
      "outputs": []
    },
    {
      "cell_type": "markdown",
      "source": [
        "# Load Data"
      ],
      "metadata": {
        "id": "MowbxvN8DBLp"
      }
    },
    {
      "cell_type": "code",
      "source": [
        "import pandas as pd\n",
        "\n",
        "# Load data into variables\n",
        "data_dict_df = pd.read_csv(f'{data_path}/data_dictionary.csv')\n",
        "sample_submission_df = pd.read_csv(f'{data_path}/sample_submission.csv')\n",
        "test_df = pd.read_csv(f'{data_path}/test.csv')\n",
        "train_df = pd.read_csv(f'{data_path}/train.csv')"
      ],
      "metadata": {
        "id": "wxpwaaNXqPze"
      },
      "execution_count": null,
      "outputs": []
    }
  ],
  "metadata": {
    "language_info": {
      "name": "python"
    },
    "colab": {
      "provenance": []
    },
    "kernelspec": {
      "name": "python3",
      "display_name": "Python 3"
    }
  },
  "nbformat": 4,
  "nbformat_minor": 0
}